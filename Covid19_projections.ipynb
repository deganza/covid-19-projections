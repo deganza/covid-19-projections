{
 "cells": [
  {
   "cell_type": "markdown",
   "metadata": {},
   "source": [
    "### 2019 Novel Coronavirus COVID-19 (2019-nCoV) Data Repository by Johns Hopkins CSSE\n",
    "### Import timeseries files from github https://github.com/CSSEGISandData/COVID-19\n"
   ]
  },
  {
   "cell_type": "code",
   "execution_count": 1,
   "metadata": {
    "ExecuteTime": {
     "end_time": "2020-02-14T07:12:10.208148Z",
     "start_time": "2020-02-14T07:12:00.309652Z"
    }
   },
   "outputs": [],
   "source": [
    "import pandas as pd\n",
    "from pandas import DataFrame\n",
    "\n",
    "#Import timeseries files from github https://github.com/CSSEGISandData/COVID-19\n",
    "#2019 Novel Coronavirus COVID-19 (2019-nCoV) Data Repository by Johns Hopkins CSSE\n",
    "\n",
    "path_confirmed = ('https://raw.githubusercontent.com/CSSEGISandData/COVID-19/master/csse_covid_19_data/csse_covid_19_time_series/time_series_covid19_confirmed_global.csv')\n",
    "path_deaths =('https://raw.githubusercontent.com/CSSEGISandData/COVID-19/master/csse_covid_19_data/csse_covid_19_time_series/time_series_covid19_deaths_global.csv')\n",
    "\n",
    "\n",
    "df_conf = pd.read_csv(path_confirmed)\n",
    "df_death = pd.read_csv(path_deaths)\n",
    "\n",
    "df_conf.to_csv (r'Daten/confirmed_cases.csv', index = False, header=True) \n",
    "df_death.to_csv (r'Daten/death.csv', index = False, header=True) \n"
   ]
  },
  {
   "cell_type": "code",
   "execution_count": 14,
   "metadata": {},
   "outputs": [
    {
     "data": {
      "application/vnd.jupyter.widget-view+json": {
       "model_id": "594a6a025ed64d33be5cda324a262d5e",
       "version_major": 2,
       "version_minor": 0
      }
     },
     "metadata": {},
     "output_type": "display_data"
    }
   ],
   "source": [
    "import pandas as pd\n",
    "from pandas import DataFrame\n",
    "\n",
    "#from beakerx import *\n",
    "#from beakerx.object import beakerx\n",
    "\n",
    "df_conf = pd.read_csv('Daten/confirmed_cases.csv')\n",
    "df_death = pd.read_csv('Daten/death.csv')\n",
    "\n",
    "df_conf"
   ]
  },
  {
   "cell_type": "code",
   "execution_count": 3,
   "metadata": {},
   "outputs": [
    {
     "name": "stderr",
     "output_type": "stream",
     "text": [
      "/opt/conda/lib/python3.7/site-packages/beakerx/tabledisplay/tabledisplay.py:114: FutureWarning: The 'get_values' method is deprecated and will be removed in a future version. Use '.to_numpy()' or '.array' instead.\n",
      "  index_values = args[0].index.get_values()[index]\n"
     ]
    },
    {
     "data": {
      "application/vnd.jupyter.widget-view+json": {
       "model_id": "4a39d4bc2c12474388f3a5c40109f4b4",
       "version_major": 2,
       "version_minor": 0
      }
     },
     "metadata": {},
     "output_type": "display_data"
    }
   ],
   "source": [
    "df_conf[(df_conf['Country/Region']=='Switzerland')]\n"
   ]
  },
  {
   "cell_type": "code",
   "execution_count": 3,
   "metadata": {},
   "outputs": [
    {
     "data": {
      "application/vnd.jupyter.widget-view+json": {
       "model_id": "b0ab40ec4fbf48129709f6110a105198",
       "version_major": 2,
       "version_minor": 0
      }
     },
     "metadata": {},
     "output_type": "display_data"
    }
   ],
   "source": [
    "df_error =df_conf[['Country/Region','3/11/20','3/12/20']]\n",
    "#df_error =df_conf[['Country/Region','3/22/20','3/23/20']]\n",
    "\n",
    "df_error = df_error[(df_error['3/11/20'] == df_error['3/12/20']) & df_error['3/11/20'] > 0 ]\n",
    "#df_error = df_error[(df_error['3/22/20'] == df_error['3/23/20']) & df_error['3/22/20'] > 0 ]\n",
    "df_error.head(10)"
   ]
  },
  {
   "cell_type": "markdown",
   "metadata": {},
   "source": [
    "### Unpivot Data and String to Date\n"
   ]
  },
  {
   "cell_type": "code",
   "execution_count": 20,
   "metadata": {},
   "outputs": [
    {
     "data": {
      "application/vnd.jupyter.widget-view+json": {
       "model_id": "3119d15e56084cac81ea5962ac7012a6",
       "version_major": 2,
       "version_minor": 0
      }
     },
     "metadata": {},
     "output_type": "display_data"
    }
   ],
   "source": [
    "#Confirmed Cases\n",
    "df_conf_unpiv = df_conf.melt(id_vars=['Country/Region','Province/State','Lat','Long'],var_name='date',value_name='cases')\n",
    "df_conf_unpiv['date']= pd.to_datetime(df_conf_unpiv['date']).dt.strftime('%Y/%m/%d')\n",
    "\n",
    "#Deaths\n",
    "df_death_unpiv = df_death.melt(id_vars=['Country/Region','Province/State','Lat','Long'],var_name='date',value_name='deaths')\n",
    "df_death_unpiv['date']= pd.to_datetime(df_death_unpiv['date']).dt.strftime('%Y/%m/%d')\n",
    "\n",
    "df_conf_unpiv.head(10)\n",
    "#df_death_unpiv.head(10)"
   ]
  },
  {
   "cell_type": "code",
   "execution_count": 21,
   "metadata": {},
   "outputs": [
    {
     "name": "stderr",
     "output_type": "stream",
     "text": [
      "/opt/conda/lib/python3.7/site-packages/beakerx/tabledisplay/tabledisplay.py:114: FutureWarning: The 'get_values' method is deprecated and will be removed in a future version. Use '.to_numpy()' or '.array' instead.\n",
      "  index_values = args[0].index.get_values()[index]\n"
     ]
    },
    {
     "data": {
      "application/vnd.jupyter.widget-view+json": {
       "model_id": "0c895c54220c45faad5b345e16af19e7",
       "version_major": 2,
       "version_minor": 0
      }
     },
     "metadata": {},
     "output_type": "display_data"
    }
   ],
   "source": [
    "df_merge = pd.merge(df_conf_unpiv, df_death_unpiv, left_on=['date','Country/Region','Province/State'], right_on=['date','Country/Region','Province/State'])\n",
    "#df_merge = pd.merge(df_merge, df_recov_unpiv, left_on=['date','Country/Region','Province/State'], right_on=['date','Country/Region','Province/State'])\n",
    "df_merge = df_merge.filter(['Country/Region','Province/State','date','cases','deaths'])\n",
    "\n",
    "df_merge = df_merge.groupby(['Country/Region','date'])['cases','deaths'].sum().reset_index()\n",
    "df_merge\n",
    "df_merge[df_merge['Country/Region']=='US'].tail(10)\n",
    "                                                    "
   ]
  },
  {
   "cell_type": "code",
   "execution_count": 22,
   "metadata": {},
   "outputs": [
    {
     "data": {
      "application/vnd.jupyter.widget-view+json": {
       "model_id": "145f5592391049f4966a8f5a5b204148",
       "version_major": 2,
       "version_minor": 0
      }
     },
     "metadata": {},
     "output_type": "display_data"
    }
   ],
   "source": [
    "df_cases=pd.DataFrame(df_merge.groupby('Country/Region')['cases'].max())\n",
    "df_cases.sort_values(by='cases', ascending=False).head(20)"
   ]
  },
  {
   "cell_type": "code",
   "execution_count": 23,
   "metadata": {},
   "outputs": [
    {
     "data": {
      "application/vnd.jupyter.widget-view+json": {
       "model_id": "8090ff4d9572459b9e9d7957ad402af4",
       "version_major": 2,
       "version_minor": 0
      }
     },
     "metadata": {},
     "output_type": "display_data"
    }
   ],
   "source": [
    "\n",
    "'''#country_list = ['Austria','Belgium','Bosnia and Herzegovina','Bulgaria','Croatia','Czech Republic','Denmark','Estonia','Finland','France',\n",
    "                'Germany','Greece','Hungary','Island','Ireland','Italy','Netherlands','Norway','Noth Macedonia','Norway','Poland','Portugal',\n",
    "                'Republic of Ireland','Romania','Spain','Slovenia','Slovakia','Sweden','Switzerland','UK']\n",
    "'''\n",
    "#,'San Marino'\n",
    "#country_list = ['Mainland China']\n",
    "#country_list = ['Italy']\n",
    "#country_list = ['Korea, South']\n",
    "#country_list = ['Iran']\n",
    "#country_list = ['Japan']\n",
    "country_list = ['Switzerland']\n",
    "#country_list = ['Ireland']\n",
    "#country_list = ['Germany']\n",
    "#country_list = ['Spain']\n",
    "#country_list = ['France']\n",
    "\n",
    "#country_list = ['US']\n",
    "\n",
    "#country_list = ['United Kingdom']\n",
    "\n",
    "\n",
    "df_europe = df_merge[df_merge['Country/Region'].isin(country_list)]\n",
    "\n",
    "\n",
    "#df_europe = df_europe.groupby(['Country/Region','Province/State','date'])['cases','deaths','recovered'].max().reset_index()\n",
    "#df_europe = df_europe.groupby(['Country/Region','date'])['cases','deaths','recovered'].sum().reset_index()\n",
    "\n",
    "#df_europe['death_rate'] = df_europe['deaths']/df_europe['cases']\n",
    "#df_europe['death_rate2'] = df_europe['deaths']/(df_europe['deaths'] + df_europe['recovered'])\n",
    "df_europe = df_europe[df_europe['cases']>=1]\n",
    "df_europe\n"
   ]
  },
  {
   "cell_type": "markdown",
   "metadata": {},
   "source": [
    "### Confirmed Cases"
   ]
  },
  {
   "cell_type": "code",
   "execution_count": 24,
   "metadata": {},
   "outputs": [
    {
     "data": {
      "image/png": "[encoded data removed]",
      "text/plain": [
       "<Figure size 432x288 with 1 Axes>"
      ]
     },
     "metadata": {
      "needs_background": "light"
     },
     "output_type": "display_data"
    }
   ],
   "source": [
    "import matplotlib.pyplot as plt\n",
    "import numpy as np\n",
    "\n",
    "faelle = 'cases'\n",
    "\n",
    "plt.plot(df_europe.index,df_europe[faelle], color = 'green')\n",
    "plt.title(' '.join(country_list) + ' - ' + faelle)\n",
    "plt.xlabel('day')\n",
    "plt.ylabel(faelle)\n",
    "plt.show()\n",
    "\n"
   ]
  },
  {
   "cell_type": "code",
   "execution_count": 11,
   "metadata": {},
   "outputs": [],
   "source": [
    "import datetime\n",
    "dayfilter = df_europe[(df_europe['date'] == datetime.date(2020,3,11))].index\n",
    "dayfilter\n",
    "\n",
    "df_europe.loc[df_europe['date'] == datetime.date(2020,3,12), \"cases\"] = 858\n",
    "#df_europe"
   ]
  },
  {
   "cell_type": "code",
   "execution_count": 25,
   "metadata": {},
   "outputs": [
    {
     "name": "stderr",
     "output_type": "stream",
     "text": [
      "/opt/conda/lib/python3.7/site-packages/beakerx/tabledisplay/tabledisplay.py:109: FutureWarning: The 'get_values' method is deprecated and will be removed in a future version. Use '.to_numpy()' or '.array' instead.\n",
      "  value = args[0][columnName].get_values()[index]\n"
     ]
    },
    {
     "data": {
      "application/vnd.jupyter.widget-view+json": {
       "model_id": "804a37fc029c4234936c294df7836373",
       "version_major": 2,
       "version_minor": 0
      }
     },
     "metadata": {},
     "output_type": "display_data"
    },
    {
     "data": {
      "image/png": "[encoded data removed]",
      "text/plain": [
       "<Figure size 432x288 with 1 Axes>"
      ]
     },
     "metadata": {
      "needs_background": "light"
     },
     "output_type": "display_data"
    }
   ],
   "source": [
    "\n",
    "from scipy.optimize import curve_fit\n",
    "import matplotlib.pyplot as plt\n",
    "%matplotlib inline\n",
    "import numpy as np\n",
    "\n",
    "def exponential_model(x, a, k, b):\n",
    "    return a*np.exp(x*k) + b\n",
    "\n",
    "def exponential(x,a,b,c):\n",
    "    return a*np.exp(b*(x-c))\n",
    "\n",
    "\n",
    "def logistic(x,a,b,c):\n",
    "    return c/(1+np.exp(-(x-b)/a))\n",
    "\n",
    "\n",
    "funktion = exponential\n",
    "\n",
    "zeilen= df_europe['cases'].count()\n",
    "\n",
    "x_array =np.arange(0, zeilen )\n",
    "x_date = df_europe['date'].values\n",
    "\n",
    "faelle = 'cases'\n",
    "\n",
    "y_array_exp = df_europe[faelle].values\n",
    "\n",
    "poptE, pcovE  = curve_fit(exponential, x_array, y_array_exp,p0=[1,1,1])\n",
    "poptL, pcovL  = curve_fit(logistic, x_array, y_array_exp,p0=[2.5,3,0])\n",
    "\n",
    "\n",
    "expdays = 7\n",
    "x_array = np.arange(0, zeilen + expdays)\n",
    "plt.figure\n",
    "\n",
    "plt.plot(x_array+min(df_europe.index), exponential(x_array, *poptE), 'r-',label='expected exp')\n",
    "plt.plot(x_array+min(df_europe.index), logistic(x_array, *poptL), 'b-',label='expected log')\n",
    "\n",
    "plt.plot(df_europe.index,df_europe[faelle] ,\".\", color = 'green',label=faelle  )\n",
    "plt.title(''.join(country_list) + ' - expected ' + faelle +' for the next ' + str(expdays) + ' days' )\n",
    "plt.legend()\n",
    "\n",
    "#land_pred = ([x_date,y_array_exp, exponential(x_array, *poptE).astype('int')] )\n",
    "land_pred = ([x_date,y_array_exp, exponential(x_array, *poptE).astype('int'),logistic(x_array, *poptL).astype('int')] )\n",
    "land_pred = pd.DataFrame(land_pred).T\n",
    "\n",
    "\n",
    "#land_pred.columns = (['date',faelle,'expected'])\n",
    "#land_pred['expected'] = land_pred.expected.astype('int')\n",
    "land_pred.columns = (['date',faelle,'expected','expected log'])\n",
    "\n",
    "#land_pred = land_pred.fillna(method='pad')\n",
    "#land_pred=land_pred.interpolate()\n",
    "land_pred.tail(14)\n",
    "\n"
   ]
  },
  {
   "cell_type": "code",
   "execution_count": 15,
   "metadata": {},
   "outputs": [
    {
     "data": {
      "text/plain": [
       "0.9946718198601849"
      ]
     },
     "execution_count": 15,
     "metadata": {},
     "output_type": "execute_result"
    }
   ],
   "source": [
    "from sklearn.metrics import r2_score\n",
    "\n",
    "r2_score(y_array_exp, funktion(x_array, *poptE)[:zeilen])"
   ]
  },
  {
   "cell_type": "markdown",
   "metadata": {},
   "source": [
    "### Deaths"
   ]
  },
  {
   "cell_type": "code",
   "execution_count": 40,
   "metadata": {},
   "outputs": [
    {
     "data": {
      "text/html": [
       "<div>\n",
       "<style scoped>\n",
       "    .dataframe tbody tr th:only-of-type {\n",
       "        vertical-align: middle;\n",
       "    }\n",
       "\n",
       "    .dataframe tbody tr th {\n",
       "        vertical-align: top;\n",
       "    }\n",
       "\n",
       "    .dataframe thead th {\n",
       "        text-align: right;\n",
       "    }\n",
       "</style>\n",
       "<table border=\"1\" class=\"dataframe\">\n",
       "  <thead>\n",
       "    <tr style=\"text-align: right;\">\n",
       "      <th></th>\n",
       "      <th>deaths</th>\n",
       "    </tr>\n",
       "    <tr>\n",
       "      <th>Country/Region</th>\n",
       "      <th></th>\n",
       "    </tr>\n",
       "  </thead>\n",
       "  <tbody>\n",
       "    <tr>\n",
       "      <th>Italy</th>\n",
       "      <td>5476.0</td>\n",
       "    </tr>\n",
       "    <tr>\n",
       "      <th>China</th>\n",
       "      <td>3153.0</td>\n",
       "    </tr>\n",
       "    <tr>\n",
       "      <th>Spain</th>\n",
       "      <td>1772.0</td>\n",
       "    </tr>\n",
       "    <tr>\n",
       "      <th>Iran</th>\n",
       "      <td>1685.0</td>\n",
       "    </tr>\n",
       "    <tr>\n",
       "      <th>France</th>\n",
       "      <td>674.0</td>\n",
       "    </tr>\n",
       "    <tr>\n",
       "      <th>...</th>\n",
       "      <td>...</td>\n",
       "    </tr>\n",
       "    <tr>\n",
       "      <th>Guadeloupe</th>\n",
       "      <td>0.0</td>\n",
       "    </tr>\n",
       "    <tr>\n",
       "      <th>Niger</th>\n",
       "      <td>0.0</td>\n",
       "    </tr>\n",
       "    <tr>\n",
       "      <th>Nicaragua</th>\n",
       "      <td>0.0</td>\n",
       "    </tr>\n",
       "    <tr>\n",
       "      <th>Guernsey</th>\n",
       "      <td>0.0</td>\n",
       "    </tr>\n",
       "    <tr>\n",
       "      <th>Zimbabwe</th>\n",
       "      <td>0.0</td>\n",
       "    </tr>\n",
       "  </tbody>\n",
       "</table>\n",
       "<p>183 rows × 1 columns</p>\n",
       "</div>"
      ],
      "text/plain": [
       "                deaths\n",
       "Country/Region        \n",
       "Italy           5476.0\n",
       "China           3153.0\n",
       "Spain           1772.0\n",
       "Iran            1685.0\n",
       "France           674.0\n",
       "...                ...\n",
       "Guadeloupe         0.0\n",
       "Niger              0.0\n",
       "Nicaragua          0.0\n",
       "Guernsey           0.0\n",
       "Zimbabwe           0.0\n",
       "\n",
       "[183 rows x 1 columns]"
      ]
     },
     "execution_count": 40,
     "metadata": {},
     "output_type": "execute_result"
    }
   ],
   "source": [
    "df_death_max = df_death_unpiv.groupby('Country/Region')['deaths'].max()\n",
    "pd.DataFrame(df_death_max.sort_values(ascending=False))"
   ]
  }
 ],
 "metadata": {
  "kernelspec": {
   "display_name": "Python 3",
   "language": "python",
   "name": "python3"
  },
  "language_info": {
   "codemirror_mode": {
    "name": "ipython",
    "version": 3
   },
   "file_extension": ".py",
   "mimetype": "text/x-python",
   "name": "python",
   "nbconvert_exporter": "python",
   "pygments_lexer": "ipython3",
   "version": "3.7.6"
  },
  "toc": {
   "base_numbering": 1,
   "nav_menu": {},
   "number_sections": false,
   "sideBar": false,
   "skip_h1_title": false,
   "title_cell": "Table of Contents",
   "title_sidebar": "Contents",
   "toc_cell": false,
   "toc_position": {},
   "toc_section_display": false,
   "toc_window_display": false
  },
  "varInspector": {
   "cols": {
    "lenName": 16,
    "lenType": 16,
    "lenVar": 40
   },
   "kernels_config": {
    "python": {
     "delete_cmd_postfix": "",
     "delete_cmd_prefix": "del ",
     "library": "var_list.py",
     "varRefreshCmd": "print(var_dic_list())"
    },
    "r": {
     "delete_cmd_postfix": ") ",
     "delete_cmd_prefix": "rm(",
     "library": "var_list.r",
     "varRefreshCmd": "cat(var_dic_list()) "
    }
   },
   "position": {
    "height": "259px",
    "left": "1128px",
    "right": "20px",
    "top": "186px",
    "width": "617px"
   },
   "types_to_exclude": [
    "module",
    "function",
    "builtin_function_or_method",
    "instance",
    "_Feature"
   ],
   "window_display": false
  }
 },
 "nbformat": 4,
 "nbformat_minor": 4
}
